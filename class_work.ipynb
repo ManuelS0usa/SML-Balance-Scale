{
 "cells": [
  {
   "cell_type": "markdown",
   "id": "3f49737f",
   "metadata": {},
   "source": [
    "# Class Pratical Assigment\n",
    "#### 21.03.2022\n",
    "\n",
    "\n",
    "\n",
    "### Data Set Information:\n",
    "\n",
    "This data set was generated to model psychological experimental results. Each example is classified as having the balance scale tip to the right, tip to the left, or be balanced. The attributes are the left weight, the left distance, the right weight, and the right distance. The correct way to find the class is the greater of (left-distance * left-weight) and (right-distance * right-weight). If they are equal, it is balanced.\n",
    "\n",
    "\n",
    "### Attribute Information:\n",
    "\n",
    "1. Class Name: 3 (L, B, R)\n",
    "2. Left-Weight: 5 (1, 2, 3, 4, 5)\n",
    "3. Left-Distance: 5 (1, 2, 3, 4, 5)\n",
    "4. Right-Weight: 5 (1, 2, 3, 4, 5)\n",
    "5. Right-Distance: 5 (1, 2, 3, 4, 5)\n",
    "\n",
    "### References: \n",
    " - https://archive.ics.uci.edu/ml/datasets/Balance+Scale\n",
    " - https://github.com/TheAIFramework/PracticalMachineLearning/blob/Trees/4%20-%20Ensemble%20Methods.ipynb\n",
    " - https://github.com/TheAIFramework/PracticalMachineLearning/blob/Trees/3%20-%20Decision%20Trees.ipynb"
   ]
  },
  {
   "cell_type": "code",
   "execution_count": 684,
   "id": "4c1a893f",
   "metadata": {},
   "outputs": [],
   "source": [
    "import pandas as pd\n",
    "import numpy as np\n",
    "import matplotlib.pyplot as plt\n",
    "import seaborn as sns\n",
    "from sklearn.model_selection import train_test_split"
   ]
  },
  {
   "cell_type": "code",
   "execution_count": 685,
   "id": "a907c3d7",
   "metadata": {},
   "outputs": [],
   "source": [
    "df = pd.read_csv('balance-scale.data')"
   ]
  },
  {
   "cell_type": "code",
   "execution_count": 686,
   "id": "382adcdd",
   "metadata": {},
   "outputs": [
    {
     "data": {
      "text/html": [
       "<div>\n",
       "<style scoped>\n",
       "    .dataframe tbody tr th:only-of-type {\n",
       "        vertical-align: middle;\n",
       "    }\n",
       "\n",
       "    .dataframe tbody tr th {\n",
       "        vertical-align: top;\n",
       "    }\n",
       "\n",
       "    .dataframe thead th {\n",
       "        text-align: right;\n",
       "    }\n",
       "</style>\n",
       "<table border=\"1\" class=\"dataframe\">\n",
       "  <thead>\n",
       "    <tr style=\"text-align: right;\">\n",
       "      <th></th>\n",
       "      <th>B</th>\n",
       "      <th>1</th>\n",
       "      <th>1.1</th>\n",
       "      <th>1.2</th>\n",
       "      <th>1.3</th>\n",
       "    </tr>\n",
       "  </thead>\n",
       "  <tbody>\n",
       "    <tr>\n",
       "      <th>0</th>\n",
       "      <td>R</td>\n",
       "      <td>1</td>\n",
       "      <td>1</td>\n",
       "      <td>1</td>\n",
       "      <td>2</td>\n",
       "    </tr>\n",
       "    <tr>\n",
       "      <th>1</th>\n",
       "      <td>R</td>\n",
       "      <td>1</td>\n",
       "      <td>1</td>\n",
       "      <td>1</td>\n",
       "      <td>3</td>\n",
       "    </tr>\n",
       "    <tr>\n",
       "      <th>2</th>\n",
       "      <td>R</td>\n",
       "      <td>1</td>\n",
       "      <td>1</td>\n",
       "      <td>1</td>\n",
       "      <td>4</td>\n",
       "    </tr>\n",
       "    <tr>\n",
       "      <th>3</th>\n",
       "      <td>R</td>\n",
       "      <td>1</td>\n",
       "      <td>1</td>\n",
       "      <td>1</td>\n",
       "      <td>5</td>\n",
       "    </tr>\n",
       "    <tr>\n",
       "      <th>4</th>\n",
       "      <td>R</td>\n",
       "      <td>1</td>\n",
       "      <td>1</td>\n",
       "      <td>2</td>\n",
       "      <td>1</td>\n",
       "    </tr>\n",
       "    <tr>\n",
       "      <th>...</th>\n",
       "      <td>...</td>\n",
       "      <td>...</td>\n",
       "      <td>...</td>\n",
       "      <td>...</td>\n",
       "      <td>...</td>\n",
       "    </tr>\n",
       "    <tr>\n",
       "      <th>619</th>\n",
       "      <td>L</td>\n",
       "      <td>5</td>\n",
       "      <td>5</td>\n",
       "      <td>5</td>\n",
       "      <td>1</td>\n",
       "    </tr>\n",
       "    <tr>\n",
       "      <th>620</th>\n",
       "      <td>L</td>\n",
       "      <td>5</td>\n",
       "      <td>5</td>\n",
       "      <td>5</td>\n",
       "      <td>2</td>\n",
       "    </tr>\n",
       "    <tr>\n",
       "      <th>621</th>\n",
       "      <td>L</td>\n",
       "      <td>5</td>\n",
       "      <td>5</td>\n",
       "      <td>5</td>\n",
       "      <td>3</td>\n",
       "    </tr>\n",
       "    <tr>\n",
       "      <th>622</th>\n",
       "      <td>L</td>\n",
       "      <td>5</td>\n",
       "      <td>5</td>\n",
       "      <td>5</td>\n",
       "      <td>4</td>\n",
       "    </tr>\n",
       "    <tr>\n",
       "      <th>623</th>\n",
       "      <td>B</td>\n",
       "      <td>5</td>\n",
       "      <td>5</td>\n",
       "      <td>5</td>\n",
       "      <td>5</td>\n",
       "    </tr>\n",
       "  </tbody>\n",
       "</table>\n",
       "<p>624 rows × 5 columns</p>\n",
       "</div>"
      ],
      "text/plain": [
       "     B  1  1.1  1.2  1.3\n",
       "0    R  1    1    1    2\n",
       "1    R  1    1    1    3\n",
       "2    R  1    1    1    4\n",
       "3    R  1    1    1    5\n",
       "4    R  1    1    2    1\n",
       "..  .. ..  ...  ...  ...\n",
       "619  L  5    5    5    1\n",
       "620  L  5    5    5    2\n",
       "621  L  5    5    5    3\n",
       "622  L  5    5    5    4\n",
       "623  B  5    5    5    5\n",
       "\n",
       "[624 rows x 5 columns]"
      ]
     },
     "execution_count": 686,
     "metadata": {},
     "output_type": "execute_result"
    }
   ],
   "source": [
    "df"
   ]
  },
  {
   "cell_type": "code",
   "execution_count": 687,
   "id": "210d63c3",
   "metadata": {},
   "outputs": [
    {
     "name": "stdout",
     "output_type": "stream",
     "text": [
      "<class 'pandas.core.frame.DataFrame'>\n",
      "RangeIndex: 624 entries, 0 to 623\n",
      "Data columns (total 5 columns):\n",
      " #   Column  Non-Null Count  Dtype \n",
      "---  ------  --------------  ----- \n",
      " 0   B       624 non-null    object\n",
      " 1   1       624 non-null    int64 \n",
      " 2   1.1     624 non-null    int64 \n",
      " 3   1.2     624 non-null    int64 \n",
      " 4   1.3     624 non-null    int64 \n",
      "dtypes: int64(4), object(1)\n",
      "memory usage: 24.5+ KB\n"
     ]
    }
   ],
   "source": [
    "df.info()"
   ]
  },
  {
   "cell_type": "code",
   "execution_count": 688,
   "id": "5775886d",
   "metadata": {},
   "outputs": [
    {
     "data": {
      "text/html": [
       "<div>\n",
       "<style scoped>\n",
       "    .dataframe tbody tr th:only-of-type {\n",
       "        vertical-align: middle;\n",
       "    }\n",
       "\n",
       "    .dataframe tbody tr th {\n",
       "        vertical-align: top;\n",
       "    }\n",
       "\n",
       "    .dataframe thead th {\n",
       "        text-align: right;\n",
       "    }\n",
       "</style>\n",
       "<table border=\"1\" class=\"dataframe\">\n",
       "  <thead>\n",
       "    <tr style=\"text-align: right;\">\n",
       "      <th></th>\n",
       "      <th>1</th>\n",
       "      <th>1.1</th>\n",
       "      <th>1.2</th>\n",
       "      <th>1.3</th>\n",
       "    </tr>\n",
       "  </thead>\n",
       "  <tbody>\n",
       "    <tr>\n",
       "      <th>count</th>\n",
       "      <td>624.000000</td>\n",
       "      <td>624.000000</td>\n",
       "      <td>624.000000</td>\n",
       "      <td>624.000000</td>\n",
       "    </tr>\n",
       "    <tr>\n",
       "      <th>mean</th>\n",
       "      <td>3.003205</td>\n",
       "      <td>3.003205</td>\n",
       "      <td>3.003205</td>\n",
       "      <td>3.003205</td>\n",
       "    </tr>\n",
       "    <tr>\n",
       "      <th>std</th>\n",
       "      <td>1.414210</td>\n",
       "      <td>1.414210</td>\n",
       "      <td>1.414210</td>\n",
       "      <td>1.414210</td>\n",
       "    </tr>\n",
       "    <tr>\n",
       "      <th>min</th>\n",
       "      <td>1.000000</td>\n",
       "      <td>1.000000</td>\n",
       "      <td>1.000000</td>\n",
       "      <td>1.000000</td>\n",
       "    </tr>\n",
       "    <tr>\n",
       "      <th>25%</th>\n",
       "      <td>2.000000</td>\n",
       "      <td>2.000000</td>\n",
       "      <td>2.000000</td>\n",
       "      <td>2.000000</td>\n",
       "    </tr>\n",
       "    <tr>\n",
       "      <th>50%</th>\n",
       "      <td>3.000000</td>\n",
       "      <td>3.000000</td>\n",
       "      <td>3.000000</td>\n",
       "      <td>3.000000</td>\n",
       "    </tr>\n",
       "    <tr>\n",
       "      <th>75%</th>\n",
       "      <td>4.000000</td>\n",
       "      <td>4.000000</td>\n",
       "      <td>4.000000</td>\n",
       "      <td>4.000000</td>\n",
       "    </tr>\n",
       "    <tr>\n",
       "      <th>max</th>\n",
       "      <td>5.000000</td>\n",
       "      <td>5.000000</td>\n",
       "      <td>5.000000</td>\n",
       "      <td>5.000000</td>\n",
       "    </tr>\n",
       "  </tbody>\n",
       "</table>\n",
       "</div>"
      ],
      "text/plain": [
       "                1         1.1         1.2         1.3\n",
       "count  624.000000  624.000000  624.000000  624.000000\n",
       "mean     3.003205    3.003205    3.003205    3.003205\n",
       "std      1.414210    1.414210    1.414210    1.414210\n",
       "min      1.000000    1.000000    1.000000    1.000000\n",
       "25%      2.000000    2.000000    2.000000    2.000000\n",
       "50%      3.000000    3.000000    3.000000    3.000000\n",
       "75%      4.000000    4.000000    4.000000    4.000000\n",
       "max      5.000000    5.000000    5.000000    5.000000"
      ]
     },
     "execution_count": 688,
     "metadata": {},
     "output_type": "execute_result"
    }
   ],
   "source": [
    "df.describe()"
   ]
  },
  {
   "cell_type": "code",
   "execution_count": 689,
   "id": "ebf6bca3",
   "metadata": {
    "scrolled": true
   },
   "outputs": [
    {
     "data": {
      "text/plain": [
       "B      0\n",
       "1      0\n",
       "1.1    0\n",
       "1.2    0\n",
       "1.3    0\n",
       "dtype: int64"
      ]
     },
     "execution_count": 689,
     "metadata": {},
     "output_type": "execute_result"
    }
   ],
   "source": [
    "# Check null values existence\n",
    "df.isna().sum()"
   ]
  },
  {
   "cell_type": "code",
   "execution_count": 690,
   "id": "8200dc8e",
   "metadata": {},
   "outputs": [],
   "source": [
    "y = df['B']"
   ]
  },
  {
   "cell_type": "code",
   "execution_count": 691,
   "id": "81739111",
   "metadata": {},
   "outputs": [
    {
     "data": {
      "text/plain": [
       "0      R\n",
       "1      R\n",
       "2      R\n",
       "3      R\n",
       "4      R\n",
       "      ..\n",
       "619    L\n",
       "620    L\n",
       "621    L\n",
       "622    L\n",
       "623    B\n",
       "Name: B, Length: 624, dtype: object"
      ]
     },
     "execution_count": 691,
     "metadata": {},
     "output_type": "execute_result"
    }
   ],
   "source": [
    "# TARGET ARRAY\n",
    "y"
   ]
  },
  {
   "cell_type": "code",
   "execution_count": 692,
   "id": "cc844509",
   "metadata": {},
   "outputs": [
    {
     "data": {
      "text/plain": [
       "R    288\n",
       "L    288\n",
       "B     48\n",
       "Name: B, dtype: int64"
      ]
     },
     "execution_count": 692,
     "metadata": {},
     "output_type": "execute_result"
    }
   ],
   "source": [
    "y.value_counts()"
   ]
  },
  {
   "cell_type": "code",
   "execution_count": 693,
   "id": "ac85dffa",
   "metadata": {},
   "outputs": [],
   "source": [
    "X = df\n",
    "# drop one column by name\n",
    "X.drop('B', axis=1, inplace=True)"
   ]
  },
  {
   "cell_type": "code",
   "execution_count": 694,
   "id": "5712c6a4",
   "metadata": {
    "scrolled": false
   },
   "outputs": [
    {
     "data": {
      "text/html": [
       "<div>\n",
       "<style scoped>\n",
       "    .dataframe tbody tr th:only-of-type {\n",
       "        vertical-align: middle;\n",
       "    }\n",
       "\n",
       "    .dataframe tbody tr th {\n",
       "        vertical-align: top;\n",
       "    }\n",
       "\n",
       "    .dataframe thead th {\n",
       "        text-align: right;\n",
       "    }\n",
       "</style>\n",
       "<table border=\"1\" class=\"dataframe\">\n",
       "  <thead>\n",
       "    <tr style=\"text-align: right;\">\n",
       "      <th></th>\n",
       "      <th>1</th>\n",
       "      <th>1.1</th>\n",
       "      <th>1.2</th>\n",
       "      <th>1.3</th>\n",
       "    </tr>\n",
       "  </thead>\n",
       "  <tbody>\n",
       "    <tr>\n",
       "      <th>0</th>\n",
       "      <td>1</td>\n",
       "      <td>1</td>\n",
       "      <td>1</td>\n",
       "      <td>2</td>\n",
       "    </tr>\n",
       "    <tr>\n",
       "      <th>1</th>\n",
       "      <td>1</td>\n",
       "      <td>1</td>\n",
       "      <td>1</td>\n",
       "      <td>3</td>\n",
       "    </tr>\n",
       "    <tr>\n",
       "      <th>2</th>\n",
       "      <td>1</td>\n",
       "      <td>1</td>\n",
       "      <td>1</td>\n",
       "      <td>4</td>\n",
       "    </tr>\n",
       "    <tr>\n",
       "      <th>3</th>\n",
       "      <td>1</td>\n",
       "      <td>1</td>\n",
       "      <td>1</td>\n",
       "      <td>5</td>\n",
       "    </tr>\n",
       "    <tr>\n",
       "      <th>4</th>\n",
       "      <td>1</td>\n",
       "      <td>1</td>\n",
       "      <td>2</td>\n",
       "      <td>1</td>\n",
       "    </tr>\n",
       "    <tr>\n",
       "      <th>...</th>\n",
       "      <td>...</td>\n",
       "      <td>...</td>\n",
       "      <td>...</td>\n",
       "      <td>...</td>\n",
       "    </tr>\n",
       "    <tr>\n",
       "      <th>619</th>\n",
       "      <td>5</td>\n",
       "      <td>5</td>\n",
       "      <td>5</td>\n",
       "      <td>1</td>\n",
       "    </tr>\n",
       "    <tr>\n",
       "      <th>620</th>\n",
       "      <td>5</td>\n",
       "      <td>5</td>\n",
       "      <td>5</td>\n",
       "      <td>2</td>\n",
       "    </tr>\n",
       "    <tr>\n",
       "      <th>621</th>\n",
       "      <td>5</td>\n",
       "      <td>5</td>\n",
       "      <td>5</td>\n",
       "      <td>3</td>\n",
       "    </tr>\n",
       "    <tr>\n",
       "      <th>622</th>\n",
       "      <td>5</td>\n",
       "      <td>5</td>\n",
       "      <td>5</td>\n",
       "      <td>4</td>\n",
       "    </tr>\n",
       "    <tr>\n",
       "      <th>623</th>\n",
       "      <td>5</td>\n",
       "      <td>5</td>\n",
       "      <td>5</td>\n",
       "      <td>5</td>\n",
       "    </tr>\n",
       "  </tbody>\n",
       "</table>\n",
       "<p>624 rows × 4 columns</p>\n",
       "</div>"
      ],
      "text/plain": [
       "     1  1.1  1.2  1.3\n",
       "0    1    1    1    2\n",
       "1    1    1    1    3\n",
       "2    1    1    1    4\n",
       "3    1    1    1    5\n",
       "4    1    1    2    1\n",
       "..  ..  ...  ...  ...\n",
       "619  5    5    5    1\n",
       "620  5    5    5    2\n",
       "621  5    5    5    3\n",
       "622  5    5    5    4\n",
       "623  5    5    5    5\n",
       "\n",
       "[624 rows x 4 columns]"
      ]
     },
     "execution_count": 694,
     "metadata": {},
     "output_type": "execute_result"
    }
   ],
   "source": [
    "# FEATURE MATRIX\n",
    "X"
   ]
  },
  {
   "cell_type": "code",
   "execution_count": 695,
   "id": "1c0c790a",
   "metadata": {},
   "outputs": [
    {
     "data": {
      "text/html": [
       "<div>\n",
       "<style scoped>\n",
       "    .dataframe tbody tr th:only-of-type {\n",
       "        vertical-align: middle;\n",
       "    }\n",
       "\n",
       "    .dataframe tbody tr th {\n",
       "        vertical-align: top;\n",
       "    }\n",
       "\n",
       "    .dataframe thead th {\n",
       "        text-align: right;\n",
       "    }\n",
       "</style>\n",
       "<table border=\"1\" class=\"dataframe\">\n",
       "  <thead>\n",
       "    <tr style=\"text-align: right;\">\n",
       "      <th></th>\n",
       "      <th>1</th>\n",
       "      <th>1.1</th>\n",
       "      <th>1.2</th>\n",
       "      <th>1.3</th>\n",
       "    </tr>\n",
       "  </thead>\n",
       "  <tbody>\n",
       "    <tr>\n",
       "      <th>1</th>\n",
       "      <td>1.000000</td>\n",
       "      <td>-0.003215</td>\n",
       "      <td>-0.003215</td>\n",
       "      <td>-0.003215</td>\n",
       "    </tr>\n",
       "    <tr>\n",
       "      <th>1.1</th>\n",
       "      <td>-0.003215</td>\n",
       "      <td>1.000000</td>\n",
       "      <td>-0.003215</td>\n",
       "      <td>-0.003215</td>\n",
       "    </tr>\n",
       "    <tr>\n",
       "      <th>1.2</th>\n",
       "      <td>-0.003215</td>\n",
       "      <td>-0.003215</td>\n",
       "      <td>1.000000</td>\n",
       "      <td>-0.003215</td>\n",
       "    </tr>\n",
       "    <tr>\n",
       "      <th>1.3</th>\n",
       "      <td>-0.003215</td>\n",
       "      <td>-0.003215</td>\n",
       "      <td>-0.003215</td>\n",
       "      <td>1.000000</td>\n",
       "    </tr>\n",
       "  </tbody>\n",
       "</table>\n",
       "</div>"
      ],
      "text/plain": [
       "            1       1.1       1.2       1.3\n",
       "1    1.000000 -0.003215 -0.003215 -0.003215\n",
       "1.1 -0.003215  1.000000 -0.003215 -0.003215\n",
       "1.2 -0.003215 -0.003215  1.000000 -0.003215\n",
       "1.3 -0.003215 -0.003215 -0.003215  1.000000"
      ]
     },
     "execution_count": 695,
     "metadata": {},
     "output_type": "execute_result"
    }
   ],
   "source": [
    "X.corr()"
   ]
  },
  {
   "cell_type": "code",
   "execution_count": 696,
   "id": "264c9346",
   "metadata": {},
   "outputs": [
    {
     "name": "stderr",
     "output_type": "stream",
     "text": [
      "C:\\Users\\ManuelSousa\\Anaconda3\\lib\\site-packages\\seaborn\\_decorators.py:36: FutureWarning: Pass the following variable as a keyword arg: x. From version 0.12, the only valid positional argument will be `data`, and passing other arguments without an explicit keyword will result in an error or misinterpretation.\n",
      "  warnings.warn(\n",
      "C:\\Users\\ManuelSousa\\Anaconda3\\lib\\site-packages\\seaborn\\_decorators.py:36: FutureWarning: Pass the following variable as a keyword arg: x. From version 0.12, the only valid positional argument will be `data`, and passing other arguments without an explicit keyword will result in an error or misinterpretation.\n",
      "  warnings.warn(\n",
      "C:\\Users\\ManuelSousa\\Anaconda3\\lib\\site-packages\\seaborn\\_decorators.py:36: FutureWarning: Pass the following variable as a keyword arg: x. From version 0.12, the only valid positional argument will be `data`, and passing other arguments without an explicit keyword will result in an error or misinterpretation.\n",
      "  warnings.warn(\n",
      "C:\\Users\\ManuelSousa\\Anaconda3\\lib\\site-packages\\seaborn\\_decorators.py:36: FutureWarning: Pass the following variable as a keyword arg: x. From version 0.12, the only valid positional argument will be `data`, and passing other arguments without an explicit keyword will result in an error or misinterpretation.\n",
      "  warnings.warn(\n"
     ]
    },
    {
     "data": {
      "image/png": "[encoded data removed]",
      "text/plain": [
       "<Figure size 432x288 with 1 Axes>"
      ]
     },
     "metadata": {
      "needs_background": "light"
     },
     "output_type": "display_data"
    },
    {
     "data": {
      "image/png": "[encoded data removed]",
      "text/plain": [
       "<Figure size 432x288 with 1 Axes>"
      ]
     },
     "metadata": {
      "needs_background": "light"
     },
     "output_type": "display_data"
    },
    {
     "data": {
      "image/png": "[encoded data removed]",
      "text/plain": [
       "<Figure size 432x288 with 1 Axes>"
      ]
     },
     "metadata": {
      "needs_background": "light"
     },
     "output_type": "display_data"
    },
    {
     "data": {
      "image/png": "[encoded data removed]",
      "text/plain": [
       "<Figure size 432x288 with 1 Axes>"
      ]
     },
     "metadata": {
      "needs_background": "light"
     },
     "output_type": "display_data"
    }
   ],
   "source": [
    "# Check for outliers in dataset\n",
    "X_columns = X.columns\n",
    "for col in X_columns:\n",
    "    fig = plt.figure()\n",
    "    sns.boxplot(X[col])"
   ]
  },
  {
   "cell_type": "markdown",
   "id": "74b67a7c",
   "metadata": {},
   "source": [
    "#### Notes:\n",
    " - Neither null values or outliers were found in the feature dataset!\n",
    " - Not much to say about features correlation...\n",
    " - Target values seem very balanced"
   ]
  },
  {
   "cell_type": "markdown",
   "id": "7de414ff",
   "metadata": {},
   "source": [
    "## Data Training/Test Splitting"
   ]
  },
  {
   "cell_type": "code",
   "execution_count": 697,
   "id": "33aaa300",
   "metadata": {},
   "outputs": [],
   "source": [
    "# 80/20 training and testing splitting - Pareto principle\n",
    "X_train, X_test, y_train, y_test = train_test_split(X, y, test_size=0.2)"
   ]
  },
  {
   "cell_type": "code",
   "execution_count": 698,
   "id": "97003e57",
   "metadata": {},
   "outputs": [],
   "source": [
    "# series = []\n",
    "# for i in range(1, 5):\n",
    "#     split_size = round(0.1*i, 1)\n",
    "#     X_train, X_test, y_train, y_test = train_test_split(X, y, test_size=split_size)\n",
    "#     series.append([X_train, X_test, y_train, y_test])\n",
    "    \n",
    "# % de splitting\n",
    "# modelo | accuracy_treino | accuracy_teste"
   ]
  },
  {
   "cell_type": "markdown",
   "id": "ff49fad7",
   "metadata": {},
   "source": [
    "##  Decision Tree Classifier\n",
    "Decision Trees (DTs) are a non-parametric supervised learning method used for classification and regression. The goal is to create a model that predicts the value of a target variable by learning simple decision rules inferred from the data features. A tree can be seen as a piecewise constant approximation."
   ]
  },
  {
   "cell_type": "code",
   "execution_count": 699,
   "id": "a4f61ca8",
   "metadata": {},
   "outputs": [
    {
     "name": "stdout",
     "output_type": "stream",
     "text": [
      "Training Accuracy:  0.8577154308617234\n",
      "Testing Accuracy:  0.744\n"
     ]
    }
   ],
   "source": [
    "from sklearn.tree import DecisionTreeClassifier\n",
    "from sklearn.metrics import accuracy_score, confusion_matrix\n",
    "from sklearn import tree\n",
    "\n",
    "dtc_model = DecisionTreeClassifier(max_depth=5) \n",
    "dtc_model.fit(X_train, y_train)\n",
    "\n",
    "pred_train = dtc_model.predict(X_train)\n",
    "acc_train = accuracy_score(y_train, pred_train)\n",
    "print(\"Training Accuracy: \", acc_train)\n",
    "\n",
    "pred_test = dtc_model.predict(X_test)\n",
    "acc_test = accuracy_score(y_test, pred_test)\n",
    "print(\"Testing Accuracy: \", acc_test)"
   ]
  },
  {
   "cell_type": "code",
   "execution_count": 700,
   "id": "00136522",
   "metadata": {},
   "outputs": [],
   "source": [
    "# grid search (GridSearchCV) tries parameters exhaustively and is precise but slow\n",
    "# random search (RandomizedSearchCV) tries parameters randomly and is less precise but much faster\n",
    "\n",
    "from sklearn.model_selection import GridSearchCV\n",
    "\n",
    "parameters = {'criterion':('gini', 'entropy'), \n",
    "         'splitter':('best', 'random'), \n",
    "         'max_depth' : [1,2,3,4,5,10], \n",
    "         'min_samples_leaf' : [1, 2, 3, 4, 5, 10, 100]}\n",
    "\n",
    "DecisionTreeClassifierAlgorithm = DecisionTreeClassifier() \n",
    "ModelGridSearch = GridSearchCV(DecisionTreeClassifierAlgorithm, parameters)"
   ]
  },
  {
   "cell_type": "code",
   "execution_count": 701,
   "id": "f92a90cc",
   "metadata": {},
   "outputs": [
    {
     "data": {
      "text/plain": [
       "GridSearchCV(estimator=DecisionTreeClassifier(),\n",
       "             param_grid={'criterion': ('gini', 'entropy'),\n",
       "                         'max_depth': [1, 2, 3, 4, 5, 10],\n",
       "                         'min_samples_leaf': [1, 2, 3, 4, 5, 10, 100],\n",
       "                         'splitter': ('best', 'random')})"
      ]
     },
     "execution_count": 701,
     "metadata": {},
     "output_type": "execute_result"
    }
   ],
   "source": [
    "ModelGridSearch.fit(X_train,y_train)"
   ]
  },
  {
   "cell_type": "code",
   "execution_count": 702,
   "id": "fd8ee8b4",
   "metadata": {},
   "outputs": [
    {
     "data": {
      "text/plain": [
       "DecisionTreeClassifier(max_depth=10, min_samples_leaf=4, splitter='random')"
      ]
     },
     "execution_count": 702,
     "metadata": {},
     "output_type": "execute_result"
    }
   ],
   "source": [
    "ModelGridSearch.best_estimator_"
   ]
  },
  {
   "cell_type": "code",
   "execution_count": 703,
   "id": "f5ee2e8b",
   "metadata": {},
   "outputs": [
    {
     "name": "stdout",
     "output_type": "stream",
     "text": [
      "Training Accuracy:  0.8577154308617234\n",
      "Testing Accuracy:  0.744\n"
     ]
    }
   ],
   "source": [
    "pred_train = dtc_model.predict(X_train)\n",
    "acc_train = accuracy_score(y_train, pred_train)\n",
    "print(\"Training Accuracy: \", acc_train)\n",
    "\n",
    "pred_test = dtc_model.predict(X_test)\n",
    "acc_test = accuracy_score(y_test, pred_test)\n",
    "print(\"Testing Accuracy: \", acc_test)"
   ]
  },
  {
   "cell_type": "code",
   "execution_count": 704,
   "id": "05b1a058",
   "metadata": {
    "scrolled": true
   },
   "outputs": [],
   "source": [
    "dtc_result = pd.DataFrame({'Model': ['Decision Tree'], 'Train Accuracy': [acc_train], 'Test Accuracy': [acc_test]})\n",
    "# results.append(dict1, ignore_index=True)"
   ]
  },
  {
   "cell_type": "code",
   "execution_count": 705,
   "id": "ee2e5611",
   "metadata": {},
   "outputs": [
    {
     "data": {
      "text/html": [
       "<div>\n",
       "<style scoped>\n",
       "    .dataframe tbody tr th:only-of-type {\n",
       "        vertical-align: middle;\n",
       "    }\n",
       "\n",
       "    .dataframe tbody tr th {\n",
       "        vertical-align: top;\n",
       "    }\n",
       "\n",
       "    .dataframe thead th {\n",
       "        text-align: right;\n",
       "    }\n",
       "</style>\n",
       "<table border=\"1\" class=\"dataframe\">\n",
       "  <thead>\n",
       "    <tr style=\"text-align: right;\">\n",
       "      <th></th>\n",
       "      <th>Model</th>\n",
       "      <th>Train Accuracy</th>\n",
       "      <th>Test Accuracy</th>\n",
       "    </tr>\n",
       "  </thead>\n",
       "  <tbody>\n",
       "    <tr>\n",
       "      <th>0</th>\n",
       "      <td>Decision Tree</td>\n",
       "      <td>0.857715</td>\n",
       "      <td>0.744</td>\n",
       "    </tr>\n",
       "  </tbody>\n",
       "</table>\n",
       "</div>"
      ],
      "text/plain": [
       "           Model  Train Accuracy  Test Accuracy\n",
       "0  Decision Tree        0.857715          0.744"
      ]
     },
     "execution_count": 705,
     "metadata": {},
     "output_type": "execute_result"
    }
   ],
   "source": [
    "dtc_result"
   ]
  },
  {
   "cell_type": "markdown",
   "id": "ac56bb60",
   "metadata": {},
   "source": [
    "## Bagging\n",
    "A Bagging model works by dividing a dataset, training one tree per subset, and averaging the results. There are variants of the Bagging approach with distinct names determined by how the data is divided (i.e. Pasting, Bagging, Random Subspaces, Random Patches, etc...).\n",
    "\n",
    "Bagging is an ensemble algorithm, in that multiple models are combined to produce a net result that outperforms any of the individual models. This approach can significantly reduce the amount of variance in the prediction results."
   ]
  },
  {
   "cell_type": "code",
   "execution_count": 706,
   "id": "823cad08",
   "metadata": {},
   "outputs": [
    {
     "name": "stderr",
     "output_type": "stream",
     "text": [
      "[Parallel(n_jobs=8)]: Using backend LokyBackend with 8 concurrent workers.\n"
     ]
    },
    {
     "name": "stdout",
     "output_type": "stream",
     "text": [
      "Training Accuracy:  0.87374749498998\n",
      "Testing Accuracy:  0.832\n"
     ]
    },
    {
     "name": "stderr",
     "output_type": "stream",
     "text": [
      "[Parallel(n_jobs=8)]: Done   2 out of   8 | elapsed:    2.4s remaining:    7.5s\n",
      "[Parallel(n_jobs=8)]: Done   8 out of   8 | elapsed:    2.5s finished\n",
      "[Parallel(n_jobs=8)]: Using backend LokyBackend with 8 concurrent workers.\n",
      "[Parallel(n_jobs=8)]: Done   2 out of   8 | elapsed:    0.0s remaining:    0.0s\n",
      "[Parallel(n_jobs=8)]: Done   8 out of   8 | elapsed:    0.0s finished\n",
      "[Parallel(n_jobs=8)]: Using backend LokyBackend with 8 concurrent workers.\n",
      "[Parallel(n_jobs=8)]: Done   2 out of   8 | elapsed:    0.0s remaining:    0.0s\n",
      "[Parallel(n_jobs=8)]: Done   8 out of   8 | elapsed:    0.0s finished\n"
     ]
    }
   ],
   "source": [
    "# Decision Trees Classifier using Bagging\n",
    "from sklearn.ensemble import BaggingClassifier\n",
    "\n",
    "# we are training the same tree but using bagging\n",
    "# set the number of estimators to the number of CPUs on your computer\n",
    "\n",
    "# used best decision tree classifier previously estimated\n",
    "mb = BaggingClassifier(base_estimator=DecisionTreeClassifier(max_depth=10, min_samples_leaf=10),\n",
    "#                        n_estimators=, default 10\n",
    "                       verbose=1,\n",
    "                       n_jobs=-1)\n",
    "\n",
    "mb.fit(X_train, y_train)\n",
    "\n",
    "pred_train = mb.predict(X_train)\n",
    "acc_train = accuracy_score(y_train, pred_train)\n",
    "print(\"Training Accuracy: \", acc_train)\n",
    "\n",
    "pred_test = mb.predict(X_test)\n",
    "acc_test = accuracy_score(y_test, pred_test)\n",
    "print(\"Testing Accuracy: \", acc_test)"
   ]
  },
  {
   "cell_type": "code",
   "execution_count": 707,
   "id": "2f7ac4d6",
   "metadata": {
    "scrolled": true
   },
   "outputs": [],
   "source": [
    "bdtc_result = pd.DataFrame({'Model': ['Bagging Decision Tree'], 'Train Accuracy': [acc_train], 'Test Accuracy': [acc_test]})"
   ]
  },
  {
   "cell_type": "code",
   "execution_count": 708,
   "id": "96df1676",
   "metadata": {},
   "outputs": [],
   "source": [
    "r1 = dtc_result.append(bdtc_result, ignore_index=True)"
   ]
  },
  {
   "cell_type": "code",
   "execution_count": 709,
   "id": "c623bd0a",
   "metadata": {},
   "outputs": [
    {
     "data": {
      "text/html": [
       "<div>\n",
       "<style scoped>\n",
       "    .dataframe tbody tr th:only-of-type {\n",
       "        vertical-align: middle;\n",
       "    }\n",
       "\n",
       "    .dataframe tbody tr th {\n",
       "        vertical-align: top;\n",
       "    }\n",
       "\n",
       "    .dataframe thead th {\n",
       "        text-align: right;\n",
       "    }\n",
       "</style>\n",
       "<table border=\"1\" class=\"dataframe\">\n",
       "  <thead>\n",
       "    <tr style=\"text-align: right;\">\n",
       "      <th></th>\n",
       "      <th>Model</th>\n",
       "      <th>Train Accuracy</th>\n",
       "      <th>Test Accuracy</th>\n",
       "    </tr>\n",
       "  </thead>\n",
       "  <tbody>\n",
       "    <tr>\n",
       "      <th>0</th>\n",
       "      <td>Decision Tree</td>\n",
       "      <td>0.857715</td>\n",
       "      <td>0.744</td>\n",
       "    </tr>\n",
       "    <tr>\n",
       "      <th>1</th>\n",
       "      <td>Bagging Decision Tree</td>\n",
       "      <td>0.873747</td>\n",
       "      <td>0.832</td>\n",
       "    </tr>\n",
       "  </tbody>\n",
       "</table>\n",
       "</div>"
      ],
      "text/plain": [
       "                   Model  Train Accuracy  Test Accuracy\n",
       "0          Decision Tree        0.857715          0.744\n",
       "1  Bagging Decision Tree        0.873747          0.832"
      ]
     },
     "execution_count": 709,
     "metadata": {},
     "output_type": "execute_result"
    }
   ],
   "source": [
    "r1"
   ]
  },
  {
   "cell_type": "markdown",
   "id": "2738291b",
   "metadata": {},
   "source": [
    "## Random Forest\n",
    "Random forest is a supervised machine learning algorithm used to solve classification as well as regression problems. It is a type of ensemble learning technique in which multiple decision trees are created from the training dataset and the majority output from them is considered as the final output."
   ]
  },
  {
   "cell_type": "code",
   "execution_count": 710,
   "id": "42c5bd2e",
   "metadata": {},
   "outputs": [],
   "source": [
    "from sklearn.ensemble import RandomForestClassifier"
   ]
  },
  {
   "cell_type": "code",
   "execution_count": 711,
   "id": "fa181f25",
   "metadata": {},
   "outputs": [
    {
     "name": "stderr",
     "output_type": "stream",
     "text": [
      "[Parallel(n_jobs=-1)]: Using backend ThreadingBackend with 8 concurrent workers.\n"
     ]
    },
    {
     "name": "stdout",
     "output_type": "stream",
     "text": [
      "Training Accuracy:  0.969939879759519\n",
      "Testing Accuracy:  0.872\n"
     ]
    },
    {
     "name": "stderr",
     "output_type": "stream",
     "text": [
      "[Parallel(n_jobs=-1)]: Done  34 tasks      | elapsed:    0.0s\n",
      "[Parallel(n_jobs=-1)]: Done 100 out of 100 | elapsed:    0.0s finished\n",
      "[Parallel(n_jobs=8)]: Using backend ThreadingBackend with 8 concurrent workers.\n",
      "[Parallel(n_jobs=8)]: Done  34 tasks      | elapsed:    0.0s\n",
      "[Parallel(n_jobs=8)]: Done 100 out of 100 | elapsed:    0.0s finished\n",
      "[Parallel(n_jobs=8)]: Using backend ThreadingBackend with 8 concurrent workers.\n",
      "[Parallel(n_jobs=8)]: Done  34 tasks      | elapsed:    0.0s\n",
      "[Parallel(n_jobs=8)]: Done 100 out of 100 | elapsed:    0.0s finished\n"
     ]
    }
   ],
   "source": [
    "rfc_model = RandomForestClassifier(max_depth=7, verbose=1, n_jobs=-1)\n",
    "\n",
    "rfc_model.fit(X_train, y_train)\n",
    "\n",
    "pred_train = rfc_model.predict(X_train)\n",
    "acc_train = accuracy_score(y_train, pred_train)\n",
    "print(\"Training Accuracy: \", acc_train)\n",
    "\n",
    "pred_test = rfc_model.predict(X_test)\n",
    "acc_test = accuracy_score(y_test, pred_test)\n",
    "print(\"Testing Accuracy: \", acc_test)"
   ]
  },
  {
   "cell_type": "code",
   "execution_count": 712,
   "id": "76be76af",
   "metadata": {},
   "outputs": [],
   "source": [
    "param = {\n",
    "    'criterion':('gini', 'entropy'),\n",
    "    'max_depth': [2, 3, 4, 5, 6, 7, 8, 9, 10, 11, 12, 15, 20, 30],\n",
    "    'n_estimators': [5, 10, 15, 20, 25, 30]}\n",
    "rand = RandomForestClassifier()\n",
    "RandomGridSearch = GridSearchCV(rand, param, n_jobs=-1)"
   ]
  },
  {
   "cell_type": "code",
   "execution_count": 713,
   "id": "9708055f",
   "metadata": {
    "scrolled": true
   },
   "outputs": [
    {
     "data": {
      "text/plain": [
       "GridSearchCV(estimator=RandomForestClassifier(), n_jobs=-1,\n",
       "             param_grid={'criterion': ('gini', 'entropy'),\n",
       "                         'max_depth': [2, 3, 4, 5, 6, 7, 8, 9, 10, 11, 12, 15,\n",
       "                                       20, 30],\n",
       "                         'n_estimators': [5, 10, 15, 20, 25, 30]})"
      ]
     },
     "execution_count": 713,
     "metadata": {},
     "output_type": "execute_result"
    }
   ],
   "source": [
    "RandomGridSearch.fit(X_train,y_train)"
   ]
  },
  {
   "cell_type": "code",
   "execution_count": 714,
   "id": "b0d5186e",
   "metadata": {},
   "outputs": [
    {
     "data": {
      "text/plain": [
       "RandomForestClassifier(max_depth=4, n_estimators=15)"
      ]
     },
     "execution_count": 714,
     "metadata": {},
     "output_type": "execute_result"
    }
   ],
   "source": [
    "RandomGridSearch.best_estimator_"
   ]
  },
  {
   "cell_type": "code",
   "execution_count": 715,
   "id": "3e12c4fc",
   "metadata": {},
   "outputs": [
    {
     "name": "stdout",
     "output_type": "stream",
     "text": [
      "Training Accuracy:  0.8917835671342685\n",
      "Testing Accuracy:  0.864\n"
     ]
    }
   ],
   "source": [
    "pred_train = RandomGridSearch.predict(X_train)\n",
    "acc_train = accuracy_score(y_train, pred_train)\n",
    "print(\"Training Accuracy: \", acc_train)\n",
    "\n",
    "pred_test = RandomGridSearch.predict(X_test)\n",
    "acc_test = accuracy_score(y_test, pred_test)\n",
    "print(\"Testing Accuracy: \", acc_test)"
   ]
  },
  {
   "cell_type": "code",
   "execution_count": 716,
   "id": "23ab8578",
   "metadata": {},
   "outputs": [],
   "source": [
    "rfc_result = pd.DataFrame({'Model': ['Random Forest Tree'], 'Train Accuracy': [acc_train], 'Test Accuracy': [acc_test]})"
   ]
  },
  {
   "cell_type": "code",
   "execution_count": 717,
   "id": "356b5339",
   "metadata": {},
   "outputs": [],
   "source": [
    "r2 = r1.append(rfc_result, ignore_index=True)"
   ]
  },
  {
   "cell_type": "code",
   "execution_count": 718,
   "id": "b4cff5b7",
   "metadata": {},
   "outputs": [
    {
     "data": {
      "text/html": [
       "<div>\n",
       "<style scoped>\n",
       "    .dataframe tbody tr th:only-of-type {\n",
       "        vertical-align: middle;\n",
       "    }\n",
       "\n",
       "    .dataframe tbody tr th {\n",
       "        vertical-align: top;\n",
       "    }\n",
       "\n",
       "    .dataframe thead th {\n",
       "        text-align: right;\n",
       "    }\n",
       "</style>\n",
       "<table border=\"1\" class=\"dataframe\">\n",
       "  <thead>\n",
       "    <tr style=\"text-align: right;\">\n",
       "      <th></th>\n",
       "      <th>Model</th>\n",
       "      <th>Train Accuracy</th>\n",
       "      <th>Test Accuracy</th>\n",
       "    </tr>\n",
       "  </thead>\n",
       "  <tbody>\n",
       "    <tr>\n",
       "      <th>0</th>\n",
       "      <td>Decision Tree</td>\n",
       "      <td>0.857715</td>\n",
       "      <td>0.744</td>\n",
       "    </tr>\n",
       "    <tr>\n",
       "      <th>1</th>\n",
       "      <td>Bagging Decision Tree</td>\n",
       "      <td>0.873747</td>\n",
       "      <td>0.832</td>\n",
       "    </tr>\n",
       "    <tr>\n",
       "      <th>2</th>\n",
       "      <td>Random Forest Tree</td>\n",
       "      <td>0.891784</td>\n",
       "      <td>0.864</td>\n",
       "    </tr>\n",
       "  </tbody>\n",
       "</table>\n",
       "</div>"
      ],
      "text/plain": [
       "                   Model  Train Accuracy  Test Accuracy\n",
       "0          Decision Tree        0.857715          0.744\n",
       "1  Bagging Decision Tree        0.873747          0.832\n",
       "2     Random Forest Tree        0.891784          0.864"
      ]
     },
     "execution_count": 718,
     "metadata": {},
     "output_type": "execute_result"
    }
   ],
   "source": [
    "r2"
   ]
  },
  {
   "cell_type": "markdown",
   "id": "5990c634",
   "metadata": {},
   "source": [
    "## Gradient Tree Boosting"
   ]
  },
  {
   "cell_type": "code",
   "execution_count": 719,
   "id": "f88cadb4",
   "metadata": {},
   "outputs": [],
   "source": [
    "from xgboost import XGBClassifier\n",
    "import xgboost as xgb"
   ]
  },
  {
   "cell_type": "code",
   "execution_count": 736,
   "id": "017bb47b",
   "metadata": {
    "scrolled": true
   },
   "outputs": [
    {
     "name": "stdout",
     "output_type": "stream",
     "text": [
      "[21:24:33] WARNING: C:/Users/Administrator/workspace/xgboost-win64_release_1.5.1/src/learner.cc:1115: Starting in XGBoost 1.3.0, the default evaluation metric used with the objective 'multi:softprob' was changed from 'merror' to 'mlogloss'. Explicitly set eval_metric if you'd like to restore the old behavior.\n",
      "[0]\tvalidation_0-mlogloss:0.88418\n",
      "[1]\tvalidation_0-mlogloss:0.74569\n",
      "[2]\tvalidation_0-mlogloss:0.66485\n",
      "[3]\tvalidation_0-mlogloss:0.60410\n",
      "[4]\tvalidation_0-mlogloss:0.55843\n",
      "[5]\tvalidation_0-mlogloss:0.52024\n",
      "[6]\tvalidation_0-mlogloss:0.49429\n",
      "[7]\tvalidation_0-mlogloss:0.48000\n",
      "[8]\tvalidation_0-mlogloss:0.46577\n",
      "[9]\tvalidation_0-mlogloss:0.45487\n",
      "[10]\tvalidation_0-mlogloss:0.43993\n",
      "[11]\tvalidation_0-mlogloss:0.43702\n",
      "[12]\tvalidation_0-mlogloss:0.42302\n",
      "[13]\tvalidation_0-mlogloss:0.41772\n",
      "[14]\tvalidation_0-mlogloss:0.41381\n",
      "[15]\tvalidation_0-mlogloss:0.41081\n",
      "[16]\tvalidation_0-mlogloss:0.41228\n",
      "[17]\tvalidation_0-mlogloss:0.41100\n",
      "[18]\tvalidation_0-mlogloss:0.41037\n",
      "[19]\tvalidation_0-mlogloss:0.41160\n",
      "[20]\tvalidation_0-mlogloss:0.40970\n",
      "[21]\tvalidation_0-mlogloss:0.40847\n",
      "[22]\tvalidation_0-mlogloss:0.40386\n",
      "[23]\tvalidation_0-mlogloss:0.40407\n",
      "[24]\tvalidation_0-mlogloss:0.40877\n",
      "[25]\tvalidation_0-mlogloss:0.40310\n",
      "[26]\tvalidation_0-mlogloss:0.40396\n",
      "[27]\tvalidation_0-mlogloss:0.40120\n",
      "[28]\tvalidation_0-mlogloss:0.40470\n",
      "[29]\tvalidation_0-mlogloss:0.40642\n",
      "[30]\tvalidation_0-mlogloss:0.40581\n",
      "[31]\tvalidation_0-mlogloss:0.40535\n",
      "[32]\tvalidation_0-mlogloss:0.40760\n",
      "[33]\tvalidation_0-mlogloss:0.40681\n",
      "[34]\tvalidation_0-mlogloss:0.40783\n",
      "[35]\tvalidation_0-mlogloss:0.40755\n",
      "[36]\tvalidation_0-mlogloss:0.40857\n",
      "Training Accuracy:  1.0\n",
      "Testing Accuracy:  0.848\n"
     ]
    },
    {
     "name": "stderr",
     "output_type": "stream",
     "text": [
      "C:\\Users\\ManuelSousa\\Anaconda3\\lib\\site-packages\\xgboost\\sklearn.py:1224: UserWarning: The use of label encoder in XGBClassifier is deprecated and will be removed in a future release. To remove this warning, do the following: 1) Pass option use_label_encoder=False when constructing XGBClassifier object; and 2) Encode your labels (y) as integers starting with 0, i.e. 0, 1, 2, ..., [num_class - 1].\n",
      "  warnings.warn(label_encoder_deprecation_msg, UserWarning)\n"
     ]
    }
   ],
   "source": [
    "# Utilizando o método XGBClassifier\n",
    "clf = XGBClassifier(n_jobs=-1, n_estimators=1000)\n",
    "eval_set = [(X_test, y_test)]\n",
    "clf.fit(X_train, y_train, early_stopping_rounds=10, eval_set=eval_set, verbose=True)\n",
    "\n",
    "pred_train = clf.predict(X_train)\n",
    "acc_train = accuracy_score(y_train, pred_train)\n",
    "print(\"Training Accuracy: \", acc_train)\n",
    "\n",
    "pred_test = clf.predict(X_test)\n",
    "acc_test = accuracy_score(y_test, pred_test)\n",
    "print(\"Testing Accuracy: \", acc_test)\n"
   ]
  },
  {
   "cell_type": "code",
   "execution_count": 722,
   "id": "a74bf99b",
   "metadata": {},
   "outputs": [],
   "source": [
    "xgbc_result = pd.DataFrame({'Model': ['XGB Classifier'], 'Train Accuracy': [acc_train], 'Test Accuracy': [acc_test]})"
   ]
  },
  {
   "cell_type": "code",
   "execution_count": 723,
   "id": "8b0a12a6",
   "metadata": {},
   "outputs": [],
   "source": [
    "r3 = r2.append(xgbc_result, ignore_index=True)"
   ]
  },
  {
   "cell_type": "code",
   "execution_count": 724,
   "id": "82612479",
   "metadata": {},
   "outputs": [
    {
     "data": {
      "text/html": [
       "<div>\n",
       "<style scoped>\n",
       "    .dataframe tbody tr th:only-of-type {\n",
       "        vertical-align: middle;\n",
       "    }\n",
       "\n",
       "    .dataframe tbody tr th {\n",
       "        vertical-align: top;\n",
       "    }\n",
       "\n",
       "    .dataframe thead th {\n",
       "        text-align: right;\n",
       "    }\n",
       "</style>\n",
       "<table border=\"1\" class=\"dataframe\">\n",
       "  <thead>\n",
       "    <tr style=\"text-align: right;\">\n",
       "      <th></th>\n",
       "      <th>Model</th>\n",
       "      <th>Train Accuracy</th>\n",
       "      <th>Test Accuracy</th>\n",
       "    </tr>\n",
       "  </thead>\n",
       "  <tbody>\n",
       "    <tr>\n",
       "      <th>0</th>\n",
       "      <td>Decision Tree</td>\n",
       "      <td>0.857715</td>\n",
       "      <td>0.744</td>\n",
       "    </tr>\n",
       "    <tr>\n",
       "      <th>1</th>\n",
       "      <td>Bagging Decision Tree</td>\n",
       "      <td>0.873747</td>\n",
       "      <td>0.832</td>\n",
       "    </tr>\n",
       "    <tr>\n",
       "      <th>2</th>\n",
       "      <td>Random Forest Tree</td>\n",
       "      <td>0.891784</td>\n",
       "      <td>0.864</td>\n",
       "    </tr>\n",
       "    <tr>\n",
       "      <th>3</th>\n",
       "      <td>XGB Classifier</td>\n",
       "      <td>1.000000</td>\n",
       "      <td>0.896</td>\n",
       "    </tr>\n",
       "  </tbody>\n",
       "</table>\n",
       "</div>"
      ],
      "text/plain": [
       "                   Model  Train Accuracy  Test Accuracy\n",
       "0          Decision Tree        0.857715          0.744\n",
       "1  Bagging Decision Tree        0.873747          0.832\n",
       "2     Random Forest Tree        0.891784          0.864\n",
       "3         XGB Classifier        1.000000          0.896"
      ]
     },
     "execution_count": 724,
     "metadata": {},
     "output_type": "execute_result"
    }
   ],
   "source": [
    "r3"
   ]
  },
  {
   "cell_type": "code",
   "execution_count": 725,
   "id": "d0b6e778",
   "metadata": {},
   "outputs": [],
   "source": [
    "# Converter as labels para numérico\n",
    "from sklearn.preprocessing import LabelEncoder\n",
    "label_encoder = LabelEncoder()\n",
    "\n",
    "y_train_enc = label_encoder.fit_transform(y_train)\n",
    "y_train_enc = pd.DataFrame(y_train_enc)\n",
    "\n",
    "y_test_enc = label_encoder.fit_transform(y_test)\n",
    "y_test_enc = pd.DataFrame(y_test_enc)"
   ]
  },
  {
   "cell_type": "code",
   "execution_count": 726,
   "id": "45150a55",
   "metadata": {},
   "outputs": [
    {
     "data": {
      "text/html": [
       "<div>\n",
       "<style scoped>\n",
       "    .dataframe tbody tr th:only-of-type {\n",
       "        vertical-align: middle;\n",
       "    }\n",
       "\n",
       "    .dataframe tbody tr th {\n",
       "        vertical-align: top;\n",
       "    }\n",
       "\n",
       "    .dataframe thead th {\n",
       "        text-align: right;\n",
       "    }\n",
       "</style>\n",
       "<table border=\"1\" class=\"dataframe\">\n",
       "  <thead>\n",
       "    <tr style=\"text-align: right;\">\n",
       "      <th></th>\n",
       "      <th>0</th>\n",
       "    </tr>\n",
       "  </thead>\n",
       "  <tbody>\n",
       "    <tr>\n",
       "      <th>0</th>\n",
       "      <td>0</td>\n",
       "    </tr>\n",
       "    <tr>\n",
       "      <th>1</th>\n",
       "      <td>1</td>\n",
       "    </tr>\n",
       "    <tr>\n",
       "      <th>2</th>\n",
       "      <td>2</td>\n",
       "    </tr>\n",
       "    <tr>\n",
       "      <th>3</th>\n",
       "      <td>0</td>\n",
       "    </tr>\n",
       "    <tr>\n",
       "      <th>4</th>\n",
       "      <td>0</td>\n",
       "    </tr>\n",
       "    <tr>\n",
       "      <th>...</th>\n",
       "      <td>...</td>\n",
       "    </tr>\n",
       "    <tr>\n",
       "      <th>494</th>\n",
       "      <td>2</td>\n",
       "    </tr>\n",
       "    <tr>\n",
       "      <th>495</th>\n",
       "      <td>2</td>\n",
       "    </tr>\n",
       "    <tr>\n",
       "      <th>496</th>\n",
       "      <td>1</td>\n",
       "    </tr>\n",
       "    <tr>\n",
       "      <th>497</th>\n",
       "      <td>2</td>\n",
       "    </tr>\n",
       "    <tr>\n",
       "      <th>498</th>\n",
       "      <td>1</td>\n",
       "    </tr>\n",
       "  </tbody>\n",
       "</table>\n",
       "<p>499 rows × 1 columns</p>\n",
       "</div>"
      ],
      "text/plain": [
       "     0\n",
       "0    0\n",
       "1    1\n",
       "2    2\n",
       "3    0\n",
       "4    0\n",
       "..  ..\n",
       "494  2\n",
       "495  2\n",
       "496  1\n",
       "497  2\n",
       "498  1\n",
       "\n",
       "[499 rows x 1 columns]"
      ]
     },
     "execution_count": 726,
     "metadata": {},
     "output_type": "execute_result"
    }
   ],
   "source": [
    "y_train_enc"
   ]
  },
  {
   "cell_type": "code",
   "execution_count": 735,
   "id": "075461bb",
   "metadata": {},
   "outputs": [
    {
     "name": "stdout",
     "output_type": "stream",
     "text": [
      "[0]\ttrain-merror:0.20641\ttest-merror:0.24800\n",
      "[1]\ttrain-merror:0.17435\ttest-merror:0.23200\n",
      "[2]\ttrain-merror:0.12224\ttest-merror:0.19200\n",
      "[3]\ttrain-merror:0.10822\ttest-merror:0.17600\n",
      "[4]\ttrain-merror:0.09619\ttest-merror:0.19200\n",
      "[5]\ttrain-merror:0.09419\ttest-merror:0.16800\n",
      "[6]\ttrain-merror:0.09218\ttest-merror:0.16800\n",
      "[7]\ttrain-merror:0.08818\ttest-merror:0.17600\n",
      "[8]\ttrain-merror:0.08818\ttest-merror:0.17600\n",
      "[9]\ttrain-merror:0.08617\ttest-merror:0.17600\n",
      "[10]\ttrain-merror:0.07214\ttest-merror:0.16800\n",
      "[11]\ttrain-merror:0.06413\ttest-merror:0.16000\n",
      "[12]\ttrain-merror:0.06413\ttest-merror:0.16000\n",
      "[13]\ttrain-merror:0.05812\ttest-merror:0.16000\n",
      "[14]\ttrain-merror:0.05010\ttest-merror:0.15200\n",
      "[15]\ttrain-merror:0.04409\ttest-merror:0.15200\n",
      "[16]\ttrain-merror:0.04208\ttest-merror:0.15200\n",
      "[17]\ttrain-merror:0.03407\ttest-merror:0.15200\n",
      "[18]\ttrain-merror:0.03206\ttest-merror:0.14400\n",
      "[19]\ttrain-merror:0.02806\ttest-merror:0.14400\n",
      "[20]\ttrain-merror:0.02605\ttest-merror:0.14400\n",
      "[21]\ttrain-merror:0.02204\ttest-merror:0.13600\n",
      "[22]\ttrain-merror:0.01804\ttest-merror:0.13600\n",
      "[23]\ttrain-merror:0.01603\ttest-merror:0.13600\n",
      "[24]\ttrain-merror:0.01403\ttest-merror:0.13600\n",
      "[25]\ttrain-merror:0.00802\ttest-merror:0.13600\n",
      "[26]\ttrain-merror:0.00802\ttest-merror:0.13600\n",
      "[27]\ttrain-merror:0.00802\ttest-merror:0.13600\n",
      "[28]\ttrain-merror:0.00601\ttest-merror:0.13600\n",
      "[29]\ttrain-merror:0.00802\ttest-merror:0.12800\n",
      "[30]\ttrain-merror:0.00802\ttest-merror:0.13600\n",
      "[31]\ttrain-merror:0.00601\ttest-merror:0.13600\n",
      "[32]\ttrain-merror:0.00401\ttest-merror:0.13600\n",
      "[33]\ttrain-merror:0.00401\ttest-merror:0.13600\n",
      "[34]\ttrain-merror:0.00401\ttest-merror:0.13600\n",
      "[35]\ttrain-merror:0.00200\ttest-merror:0.13600\n",
      "[36]\ttrain-merror:0.00000\ttest-merror:0.13600\n",
      "[37]\ttrain-merror:0.00000\ttest-merror:0.13600\n",
      "[38]\ttrain-merror:0.00000\ttest-merror:0.13600\n",
      "[39]\ttrain-merror:0.00000\ttest-merror:0.13600\n",
      "[40]\ttrain-merror:0.00000\ttest-merror:0.14400\n",
      "[41]\ttrain-merror:0.00000\ttest-merror:0.14400\n",
      "[42]\ttrain-merror:0.00000\ttest-merror:0.13600\n",
      "[43]\ttrain-merror:0.00000\ttest-merror:0.14400\n",
      "[44]\ttrain-merror:0.00000\ttest-merror:0.14400\n"
     ]
    }
   ],
   "source": [
    "# Utilizando outro método\n",
    "param = {'objective':'multi:softmax',\n",
    "     'eta':0.2,\n",
    "     'max_depth':15,\n",
    "     'num_class':54,\n",
    "     'eval_metric': 'merror',\n",
    "     'nthread':'32'}\n",
    "\n",
    "# XGBoost wants the data serialized into a data structure called Dmatrix\n",
    "dat = xgb.DMatrix(X_train, label=y_train_enc)\n",
    "datt = xgb.DMatrix(X_test, label=y_test_enc)\n",
    "watch = [(dat, 'train'), (datt, 'test')]\n",
    "score = {}\n",
    "\n",
    "mxgb = xgb.train(param, dat, 45, watch, evals_result=score)"
   ]
  },
  {
   "cell_type": "code",
   "execution_count": 728,
   "id": "6351bbad",
   "metadata": {},
   "outputs": [
    {
     "data": {
      "image/png": "[encoded data removed]",
      "text/plain": [
       "<Figure size 432x288 with 1 Axes>"
      ]
     },
     "metadata": {
      "needs_background": "light"
     },
     "output_type": "display_data"
    }
   ],
   "source": [
    "plt.close('all')\n",
    "\n",
    "epoch = list(range(len(score['test']['merror'])))\n",
    "pred_y = mxgb.predict(datt)\n",
    "acc_test = accuracy_score(y_test_enc, pred_y)\n",
    "plt.plot(epoch, score['test']['merror'], label='test')\n",
    "plt.title(\"Final Error %0.4f\" % acc_test)\n",
    "plt.show()"
   ]
  },
  {
   "cell_type": "code",
   "execution_count": 729,
   "id": "276e0e6a",
   "metadata": {},
   "outputs": [
    {
     "name": "stdout",
     "output_type": "stream",
     "text": [
      "Training Accuracy:  1.0\n",
      "Testing Accuracy:  0.856\n"
     ]
    }
   ],
   "source": [
    "pred_y = mxgb.predict(dat)\n",
    "acc_train = accuracy_score(y_train_enc, pred_y)\n",
    "print(\"Training Accuracy: \", acc_train)\n",
    "print(\"Testing Accuracy: \", acc_test)"
   ]
  },
  {
   "cell_type": "code",
   "execution_count": 730,
   "id": "6e3b0243",
   "metadata": {},
   "outputs": [],
   "source": [
    "xgb_result = pd.DataFrame({'Model': ['XGB[Version 2]'], 'Train Accuracy': [acc_train], 'Test Accuracy': [acc_test]})\n",
    "r4 = r3.append(xgb_result, ignore_index=True)"
   ]
  },
  {
   "cell_type": "markdown",
   "id": "f4ad69d4",
   "metadata": {},
   "source": [
    "## Results Overview"
   ]
  },
  {
   "cell_type": "code",
   "execution_count": 731,
   "id": "5306c92c",
   "metadata": {},
   "outputs": [
    {
     "data": {
      "text/html": [
       "<div>\n",
       "<style scoped>\n",
       "    .dataframe tbody tr th:only-of-type {\n",
       "        vertical-align: middle;\n",
       "    }\n",
       "\n",
       "    .dataframe tbody tr th {\n",
       "        vertical-align: top;\n",
       "    }\n",
       "\n",
       "    .dataframe thead th {\n",
       "        text-align: right;\n",
       "    }\n",
       "</style>\n",
       "<table border=\"1\" class=\"dataframe\">\n",
       "  <thead>\n",
       "    <tr style=\"text-align: right;\">\n",
       "      <th></th>\n",
       "      <th>Model</th>\n",
       "      <th>Train Accuracy</th>\n",
       "      <th>Test Accuracy</th>\n",
       "    </tr>\n",
       "  </thead>\n",
       "  <tbody>\n",
       "    <tr>\n",
       "      <th>0</th>\n",
       "      <td>Decision Tree</td>\n",
       "      <td>0.857715</td>\n",
       "      <td>0.744</td>\n",
       "    </tr>\n",
       "    <tr>\n",
       "      <th>1</th>\n",
       "      <td>Bagging Decision Tree</td>\n",
       "      <td>0.873747</td>\n",
       "      <td>0.832</td>\n",
       "    </tr>\n",
       "    <tr>\n",
       "      <th>2</th>\n",
       "      <td>Random Forest Tree</td>\n",
       "      <td>0.891784</td>\n",
       "      <td>0.864</td>\n",
       "    </tr>\n",
       "    <tr>\n",
       "      <th>3</th>\n",
       "      <td>XGB Classifier</td>\n",
       "      <td>1.000000</td>\n",
       "      <td>0.896</td>\n",
       "    </tr>\n",
       "    <tr>\n",
       "      <th>4</th>\n",
       "      <td>XGB[Version 2]</td>\n",
       "      <td>1.000000</td>\n",
       "      <td>0.856</td>\n",
       "    </tr>\n",
       "  </tbody>\n",
       "</table>\n",
       "</div>"
      ],
      "text/plain": [
       "                   Model  Train Accuracy  Test Accuracy\n",
       "0          Decision Tree        0.857715          0.744\n",
       "1  Bagging Decision Tree        0.873747          0.832\n",
       "2     Random Forest Tree        0.891784          0.864\n",
       "3         XGB Classifier        1.000000          0.896\n",
       "4         XGB[Version 2]        1.000000          0.856"
      ]
     },
     "execution_count": 731,
     "metadata": {},
     "output_type": "execute_result"
    }
   ],
   "source": [
    "r4"
   ]
  },
  {
   "cell_type": "markdown",
   "id": "7ce603ce",
   "metadata": {},
   "source": [
    "#### Random Forest and XGBoost based methods achieved the best model performance!"
   ]
  }
 ],
 "metadata": {
  "kernelspec": {
   "display_name": "Python 3 (ipykernel)",
   "language": "python",
   "name": "python3"
  },
  "language_info": {
   "codemirror_mode": {
    "name": "ipython",
    "version": 3
   },
   "file_extension": ".py",
   "mimetype": "text/x-python",
   "name": "python",
   "nbconvert_exporter": "python",
   "pygments_lexer": "ipython3",
   "version": "3.9.7"
  }
 },
 "nbformat": 4,
 "nbformat_minor": 5
}
